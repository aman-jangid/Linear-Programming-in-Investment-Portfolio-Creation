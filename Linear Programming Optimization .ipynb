{
 "cells": [
  {
   "cell_type": "code",
   "execution_count": 287,
   "metadata": {},
   "outputs": [],
   "source": [
    "#importing Libraries.\n",
    "\n",
    "import numpy as np\n",
    "from scipy.optimize import minimize\n",
    "from matplotlib import pyplot as plt "
   ]
  },
  {
   "cell_type": "code",
   "execution_count": 277,
   "metadata": {},
   "outputs": [],
   "source": [
    "#Main Objective Function i.e Potfolio_Return to whom we want to maximize.(Sign=-1) Becoz We want to maximize using minimize tool in scipy. \n",
    "\n",
    "def objective(weight,Return = [0.20,0.12,0.05],sign=-1):\n",
    "    Portfolio_return = []\n",
    "    for i in range(len(weight)):\n",
    "        Portfolio_return.append(weight[i]*Return[i])\n",
    "    return sign*sum(Portfolio_return)    "
   ]
  },
  {
   "cell_type": "code",
   "execution_count": 278,
   "metadata": {},
   "outputs": [],
   "source": [
    "#Const1 - Sum of all weights equal to 1\n",
    "\n",
    "def constraint1(weight):\n",
    "    return (sum(weight) - 1)    "
   ]
  },
  {
   "cell_type": "code",
   "execution_count": 293,
   "metadata": {},
   "outputs": [],
   "source": [
    "#Const2 - Total Risk Should be greater than 0.05(given in question).We can change for checking variation of max_return with risk. \n",
    "\n",
    "def constraint2(weight,risk_assestment = [0.2,0.08,0.01],sign=1): \n",
    "    total_risk = []\n",
    "    for i in range(len(weight)):\n",
    "        total_risk.append(weight[i]*risk_assestment[i])\n",
    "    return sign*(sum(total_risk) - 0.05)    "
   ]
  },
  {
   "cell_type": "code",
   "execution_count": 294,
   "metadata": {},
   "outputs": [],
   "source": [
    "#Weights Intial Assumption.\n",
    "\n",
    "weight = [0.30,0.30,0.40]\n",
    "Return = [0.20,0.12,0.05]"
   ]
  },
  {
   "cell_type": "code",
   "execution_count": 295,
   "metadata": {},
   "outputs": [],
   "source": [
    "#Bounds of each weight. \n",
    "\n",
    "w1 = (0.20,0.40)\n",
    "w2 = (0.20,0.50)\n",
    "w3 = (0.3,0.6)"
   ]
  },
  {
   "cell_type": "code",
   "execution_count": 296,
   "metadata": {},
   "outputs": [],
   "source": [
    "#All constraints and bounds together.\n",
    "\n",
    "con1 = {'type':'eq','fun':constraint1}\n",
    "con2 = {'type':'ineq','fun':constraint2}\n",
    "cons = [con1,con2]\n",
    "bound = [w1,w2,w3]"
   ]
  },
  {
   "cell_type": "code",
   "execution_count": 297,
   "metadata": {},
   "outputs": [],
   "source": [
    "#Optimization of Weigths for maximizing return using Sequential Least Square Algo(SLSQP).\n",
    "\n",
    "solution = minimize(objective,weight,method='SLSQP',bounds=bound,constraints=cons)"
   ]
  },
  {
   "cell_type": "code",
   "execution_count": 300,
   "metadata": {},
   "outputs": [
    {
     "data": {
      "text/plain": [
       "array([0.4, 0.3, 0.3])"
      ]
     },
     "execution_count": 300,
     "metadata": {},
     "output_type": "execute_result"
    }
   ],
   "source": [
    "#New Weights after optimization.\n",
    "\n",
    "weight = solution.x\n",
    "weight"
   ]
  },
  {
   "cell_type": "code",
   "execution_count": 299,
   "metadata": {},
   "outputs": [
    {
     "data": {
      "text/plain": [
       "13.099999999999998"
      ]
     },
     "execution_count": 299,
     "metadata": {},
     "output_type": "execute_result"
    }
   ],
   "source": [
    "#Maximum Portfolio Return given above constriants.\n",
    "\n",
    "Pt_Return = 0\n",
    "for i in range(len(weight)):\n",
    "    Pt_Return = Pt_Return + weight[i]*Return[i]\n",
    "Pt_Return*100"
   ]
  },
  {
   "cell_type": "code",
   "execution_count": null,
   "metadata": {},
   "outputs": [],
   "source": [
    "#Obtaining max_return by changing risk_Index as different client prefer different risk, good to show graph to clients.\n",
    "\n",
    "'''IF\n",
    " Risk_Index     Max_Return(%)\n",
    "   =0.062           9.40\n",
    "   <=0.07          10.20\n",
    "   <=0.08          11.20\n",
    "   <=0.09          11.96\n",
    "   <=0.10          12.63\n",
    "   <=0.107         13.1\n",
    "   <=0.15          13.1\n",
    "'''\n",
    "'''Maximum return we can extract from these constraints is 13.01 (Weight = [0.4,0.3,0.3])'''"
   ]
  },
  {
   "cell_type": "code",
   "execution_count": 301,
   "metadata": {},
   "outputs": [],
   "source": [
    "#Risk_Index and thier respective max_return.\n",
    "Risk_Index = [0.062,0.07,0.08,0.09,0.10,0.107,.15]\n",
    "Max_Return = [9.40,10.20,11.20,11.96,12.63,13.1,13.1]"
   ]
  },
  {
   "cell_type": "code",
   "execution_count": 302,
   "metadata": {},
   "outputs": [
    {
     "data": {
      "image/png": "[encoded data removed]",
      "text/plain": [
       "<Figure size 432x288 with 1 Axes>"
      ]
     },
     "metadata": {
      "needs_background": "light"
     },
     "output_type": "display_data"
    }
   ],
   "source": [
    "#Plot showing RiskIndex that upto certain risk what is my max_return (assumming my forcast return and bounds of my weight).\n",
    "plt.plot(Risk_Index,Max_Return,color=\"green\",linewidth=3)\n",
    "plt.title(\"MaxReturn vs RiskIndex (Given Constraints)\")\n",
    "plt.xlabel(\"Risk_Index\")\n",
    "plt.grid(True)\n",
    "plt.ylabel(\"Max_Return\")\n",
    "plt.show()"
   ]
  },
  {
   "cell_type": "code",
   "execution_count": null,
   "metadata": {},
   "outputs": [],
   "source": []
  }
 ],
 "metadata": {
  "kernelspec": {
   "display_name": "Python 3",
   "language": "python",
   "name": "python3"
  },
  "language_info": {
   "codemirror_mode": {
    "name": "ipython",
    "version": 3
   },
   "file_extension": ".py",
   "mimetype": "text/x-python",
   "name": "python",
   "nbconvert_exporter": "python",
   "pygments_lexer": "ipython3",
   "version": "3.7.6"
  }
 },
 "nbformat": 4,
 "nbformat_minor": 4
}
